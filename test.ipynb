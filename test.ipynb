{
 "cells": [
  {
   "cell_type": "code",
   "execution_count": 31,
   "metadata": {},
   "outputs": [
    {
     "name": "stdout",
     "output_type": "stream",
     "text": [
      "[0 1 0 2 0]\n",
      "[35 28 21 13  5]\n",
      "4500\n"
     ]
    }
   ],
   "source": [
    "from operator import add\n",
    "import numpy as np\n",
    "\n",
    "pot = np.zeros(5, dtype=int)\n",
    "pre_flop_pot = np.array([0, 1, 0, 2, 0], dtype=int)\n",
    "\n",
    "result = pot + pre_flop_pot\n",
    "print(result)\n",
    "\n",
    "starter_chipset = {\n",
    "            \"white\": int(35),\n",
    "            \"red\": int(28),\n",
    "            \"green\": int(21),\n",
    "            \"blue\": int(13),\n",
    "            \"black\": int(5)\n",
    "        }\n",
    "\n",
    "i = np.array(list(starter_chipset.values()), dtype=int)\n",
    "print(i)\n",
    "\n",
    "chip_values = {\n",
    "    \"white\": int(1),\n",
    "    \"red\": int(5),\n",
    "    \"green\": int(25),\n",
    "    \"blue\": int(100),\n",
    "    \"black\": int(500)\n",
    "}\n",
    "\n",
    "total_value = 0\n",
    "for index, value in enumerate(i):\n",
    "    x = value * chip_values[list(chip_values.keys())[index]]\n",
    "    total_value += x\n",
    "\n",
    "print(total_value)\n",
    "\n",
    "# Matrix of player information\n",
    "# Need to store data for reinforcement and supervised learning\n",
    "\n",
    "# Game Number\n",
    "# Round Number\n",
    "\n",
    "[Player1[Game1[Round1[[Action1],[Action2]]][Round2[[],[]]], []]]"
   ]
  }
 ],
 "metadata": {
  "kernelspec": {
   "display_name": "pygame",
   "language": "python",
   "name": "python3"
  },
  "language_info": {
   "codemirror_mode": {
    "name": "ipython",
    "version": 3
   },
   "file_extension": ".py",
   "mimetype": "text/x-python",
   "name": "python",
   "nbconvert_exporter": "python",
   "pygments_lexer": "ipython3",
   "version": "3.11.0"
  }
 },
 "nbformat": 4,
 "nbformat_minor": 2
}
