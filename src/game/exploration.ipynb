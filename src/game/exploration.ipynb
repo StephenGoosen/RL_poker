{
 "cells": [
  {
   "cell_type": "code",
   "execution_count": 2,
   "metadata": {},
   "outputs": [],
   "source": [
    "from itertools import combinations\n",
    "\n",
    "from pokereval.card import Card\n",
    "\n",
    "from pokereval.hand_evaluator import HandEvaluator, LookupTables"
   ]
  },
  {
   "cell_type": "code",
   "execution_count": 12,
   "metadata": {},
   "outputs": [
    {
     "name": "stdout",
     "output_type": "stream",
     "text": [
      " Agent 1's score: 0.7808080808080808\n",
      " Agent 2's score: 0.7929292929292929\n"
     ]
    },
    {
     "data": {
      "text/plain": [
       "{1: 's', 2: 'h', 3: 'd', 4: 'c'}"
      ]
     },
     "execution_count": 12,
     "metadata": {},
     "output_type": "execute_result"
    }
   ],
   "source": [
    "player1name = \"Agent 1\"\n",
    "player2name = \"Agent 2\"\n",
    "\n",
    "\n",
    "hole_cards = [Card(14,2), Card(4,3)]\n",
    "community_cards = [Card(14,1), Card(2,2), Card(3,1), Card(7,1), Card(7,4)]\n",
    "player1hand = HandEvaluator.evaluate_hand(hole_cards, community_cards)\n",
    "\n",
    "print(f\" {player1name}'s score: {player1hand}\")\n",
    "\n",
    "hole_cards = [Card(14,3), Card(6,4)]\n",
    "\n",
    "player2hand = HandEvaluator.evaluate_hand(hole_cards, community_cards)\n",
    "print(f\" {player2name}'s score: {player2hand}\")\n",
    "\n",
    "Card(14,2).SUIT_TO_STRING\n"
   ]
  },
  {
   "cell_type": "code",
   "execution_count": 10,
   "metadata": {},
   "outputs": [
    {
     "name": "stdout",
     "output_type": "stream",
     "text": [
      "[14, 12, 10, 9, 5, 4, 4]\n",
      "[1, 2, 3, 4, 1, 2, 3]\n",
      "(0, 'High Card')\n"
     ]
    }
   ],
   "source": [
    "def hand_ranking(hole_cards, community_cards):\n",
    "    cards = hole_cards + community_cards\n",
    "\n",
    "    values = sorted([int(card.rank) for card in cards], reverse=True)\n",
    "    suits = [card.suit for card in cards]\n",
    "\n",
    "    print(values)\n",
    "    print(suits)\n",
    "\n",
    "    # Check for flush\n",
    "    flush = len(set(suits)) == 1\n",
    "\n",
    "    # Check for straight\n",
    "    straight = (\n",
    "        (values[0] - values[4] == 4 and len(set(values)) == 5) or\n",
    "        (values[0] == 14 and values[1] == 5 and len(set(values[1:])) == 4)\n",
    "    )\n",
    "\n",
    "    # Check for royal flush\n",
    "    if straight and flush and values[0] == 14:\n",
    "        return 9, \"Royal Flush\"\n",
    "\n",
    "    # Check for straight flush\n",
    "    if straight and flush:\n",
    "        return 8, \"Straight Flush\"\n",
    "\n",
    "    # Check for four of a kind\n",
    "    if values.count(values[0]) == 4 or values.count(values[1]) == 4:\n",
    "        return 7, \"Four of a Kind\"\n",
    "\n",
    "    # Check for full house\n",
    "    if values.count(values[0]) == 3 and values.count(values[4]) == 2:\n",
    "        return 6, \"Full House\"\n",
    "    elif values.count(values[0]) == 2 and values.count(values[4]) == 3:\n",
    "        return 6, \"Full House\"\n",
    "\n",
    "    # Check for flush\n",
    "    if flush:\n",
    "        return 5, \"Flush\"\n",
    "\n",
    "    # Check for straight\n",
    "    if straight:\n",
    "        return 4, \"Straight\"\n",
    "\n",
    "    # Check for three of a kind\n",
    "    if values.count(values[0]) == 3 or values.count(values[2]) == 3 or values.count(values[4]) == 3:\n",
    "        return 3, \"Three of a Kind\"\n",
    "\n",
    "    # Check for two pair\n",
    "    if len(set(values)) == 3 and values.count(values[0]) == 2 and values.count(values[2]) == 2:\n",
    "        return 2, \"Two Pair\"\n",
    "\n",
    "    # Check for one pair\n",
    "    if len(set(values)) == 4:\n",
    "        return 1, \"One Pair\"\n",
    "\n",
    "    # High card\n",
    "    return 0, \"High Card\"\n",
    "\n",
    "# Example usage\n",
    "hole_cards = [Card(14, 1), Card(12, 2)]\n",
    "community_cards = [Card(10, 3), Card(9, 4), Card(5, 1), Card(4, 2), Card(4, 3)]\n",
    "result = hand_ranking(hole_cards, community_cards)\n",
    "print(result)"
   ]
  }
 ],
 "metadata": {
  "kernelspec": {
   "display_name": "pygame",
   "language": "python",
   "name": "python3"
  },
  "language_info": {
   "codemirror_mode": {
    "name": "ipython",
    "version": 3
   },
   "file_extension": ".py",
   "mimetype": "text/x-python",
   "name": "python",
   "nbconvert_exporter": "python",
   "pygments_lexer": "ipython3",
   "version": "3.11.0"
  }
 },
 "nbformat": 4,
 "nbformat_minor": 2
}
