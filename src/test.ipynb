{
 "cells": [
  {
   "cell_type": "code",
   "execution_count": 19,
   "metadata": {},
   "outputs": [],
   "source": [
    "from operator import add\n",
    "import numpy as np\n",
    "\n",
    "import game.game_logic as Gl\n",
    "\n",
    "game = Gl.GameLogic()"
   ]
  },
  {
   "cell_type": "code",
   "execution_count": 27,
   "metadata": {},
   "outputs": [],
   "source": [
    "game.rotate_positions()"
   ]
  },
  {
   "cell_type": "code",
   "execution_count": 30,
   "metadata": {},
   "outputs": [
    {
     "name": "stdout",
     "output_type": "stream",
     "text": [
      "Player 1: Agent 2 \n",
      " Player 2: Agent 1\n",
      "Small blind: Agent 2\n",
      "Big Blind: Agent 1\n",
      "Active Player: Agent 2\n"
     ]
    }
   ],
   "source": [
    "print(f\"Player 1: {game.players[0].name} \\n Player 2: {game.players[1].name}\")\n",
    "print(f\"Small blind: {game.players[game.small_blind_index].name}\")\n",
    "print(f\"Big Blind: {game.players[game.big_blind_index].name}\")\n",
    "print(f\"Active Player: {game.players[game.active_player_index].name}\")\n"
   ]
  }
 ],
 "metadata": {
  "kernelspec": {
   "display_name": "pygame",
   "language": "python",
   "name": "python3"
  },
  "language_info": {
   "codemirror_mode": {
    "name": "ipython",
    "version": 3
   },
   "file_extension": ".py",
   "mimetype": "text/x-python",
   "name": "python",
   "nbconvert_exporter": "python",
   "pygments_lexer": "ipython3",
   "version": "3.11.0"
  }
 },
 "nbformat": 4,
 "nbformat_minor": 2
}
